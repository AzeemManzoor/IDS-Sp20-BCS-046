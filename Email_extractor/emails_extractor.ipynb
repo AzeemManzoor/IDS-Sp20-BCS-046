{
 "cells": [
  {
   "cell_type": "code",
   "execution_count": null,
   "id": "0f747993",
   "metadata": {},
   "outputs": [],
   "source": [
    "import pandas as pd\n",
    "import re"
   ]
  },
  {
   "cell_type": "code",
   "execution_count": null,
   "id": "0db61b41",
   "metadata": {},
   "outputs": [],
   "source": [
    "# Raw text\n",
    "text = \"Duis info@geeksforgeeks.com convallis. Parturient montes nascetur ridiculus mus \\\n",
    "geeksforgeeks@rocks.xyz mauris. Odio eu feugiat pre@rsos_tium.index nibh ipsum consequat love@gfg.in \\\n",
    "pretium aenean pharetra magna ac placerat. Vitae justo eget magna fermentum iaculis eu non.\"\n",
    "\n",
    "#import regex module\n",
    "import re\n",
    "\n",
    "#finding all valid emails using regex\n",
    "reg = re.findall(r\"[A-Za-z0-9_%+-.]+\"\n",
    "\t\t\t\tr\"@[A-Za-z0-9.-]+\"\n",
    "\t\t\t\tr\"\\.[A-Za-z]{2,5}\",text)\n",
    "\n",
    "#printing all the valid emails found\n",
    "print(reg)\n",
    "\n"
   ]
  },
  {
   "cell_type": "code",
   "execution_count": null,
   "id": "aca9f0b0",
   "metadata": {},
   "outputs": [],
   "source": [
    "\n",
    "import re\n",
    "fname = input(\"Please Enter the name of text file: \")  #Here the file name is emails.txt\n",
    "\n",
    "try:\n",
    "    file = open(fname)\n",
    "    reg = re.findall(r\"[A-Za-z0-9_%+-.]+@[A-Za-z0-9.-]+\\.[A-Za-z]+\",file.read())\n",
    "    print(reg)\n",
    "except:\n",
    "    print(\"File not found...\")"
   ]
  },
  {
   "cell_type": "code",
   "execution_count": null,
   "id": "45817047",
   "metadata": {},
   "outputs": [],
   "source": []
  },
  {
   "cell_type": "code",
   "execution_count": null,
   "id": "77fa628d",
   "metadata": {},
   "outputs": [],
   "source": []
  },
  {
   "cell_type": "code",
   "execution_count": null,
   "id": "235bd160",
   "metadata": {},
   "outputs": [],
   "source": []
  }
 ],
 "metadata": {
  "kernelspec": {
   "display_name": "Python 3 (ipykernel)",
   "language": "python",
   "name": "python3"
  },
  "language_info": {
   "codemirror_mode": {
    "name": "ipython",
    "version": 3
   },
   "file_extension": ".py",
   "mimetype": "text/x-python",
   "name": "python",
   "nbconvert_exporter": "python",
   "pygments_lexer": "ipython3",
   "version": "3.10.5"
  }
 },
 "nbformat": 4,
 "nbformat_minor": 5
}
