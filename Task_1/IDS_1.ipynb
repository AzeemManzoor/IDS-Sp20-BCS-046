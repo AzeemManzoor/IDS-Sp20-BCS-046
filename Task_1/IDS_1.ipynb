{
 "cells": [
  {
   "cell_type": "code",
   "execution_count": null,
   "id": "0c208390",
   "metadata": {
    "scrolled": true
   },
   "outputs": [],
   "source": [
    "# import important libraries\n",
    "import requests\n",
    "from bs4 import BeautifulSoup\n",
    "\n",
    "# create an object to fetch HTML from a webpage\n",
    "response = requests.get(\"https://edition.cnn.com/\")\n"
   ]
  },
  {
   "cell_type": "code",
   "execution_count": null,
   "id": "e2be1550",
   "metadata": {},
   "outputs": [],
   "source": [
    "# call different functions associated with the (reponse) object\n",
    "\n",
    "htmlcontent = response.content\n",
    "print(htmlcontent)"
   ]
  },
  {
   "cell_type": "code",
   "execution_count": null,
   "id": "085f0775",
   "metadata": {},
   "outputs": [],
   "source": []
  },
  {
   "cell_type": "code",
   "execution_count": null,
   "id": "1f50e969",
   "metadata": {
    "scrolled": true
   },
   "outputs": [],
   "source": [
    "from bs4 import BeautifulSoup\n",
    "\n",
    "title = soup.title\n",
    "print(title)\n",
    "print(type(title))\n",
    "\n"
   ]
  },
  {
   "cell_type": "code",
   "execution_count": null,
   "id": "4d232e97",
   "metadata": {},
   "outputs": [],
   "source": [
    "# use BeautifulSoup and html5lib to parse HTML text\n",
    "soup = BeautifulSoup(htmlcontent,('html.parser'))\n",
    "print(soup)\n"
   ]
  },
  {
   "cell_type": "code",
   "execution_count": null,
   "id": "1fb16afa",
   "metadata": {},
   "outputs": [],
   "source": [
    "# prettify() is used to format HTML text with proper indents\n",
    "print(soup.prettify)\n"
   ]
  },
  {
   "cell_type": "code",
   "execution_count": null,
   "id": "3bc82912",
   "metadata": {},
   "outputs": [],
   "source": [
    "import requests\n",
    "from bs4 import BeautifulSoup\n",
    "response = requests.get(\"https://www.comsats.edu.pk/\")\n",
    "# a = response.status_code\n",
    "# b = response.content\n",
    "# c = response.text\n",
    "# d = response.headers\n",
    "response.headers['Server']\n",
    "\n",
    "# print(a)      #This will print status_code which is 200\n",
    "# print(b)      #It will print html content  \n",
    "# print(c)      #It will print HTML text\n",
    "# print(d)      #It will print HTML Headers\n",
    "# print(e)      #It will print server name\n"
   ]
  },
  {
   "cell_type": "code",
   "execution_count": null,
   "id": "15b7c5a0",
   "metadata": {},
   "outputs": [],
   "source": [
    "# To get all paragraphs pr anchor tags from HTML page\n",
    "paras = soup.find_all('p')\n",
    "print(paras)\n"
   ]
  },
  {
   "cell_type": "code",
   "execution_count": null,
   "id": "1cf4aaba",
   "metadata": {},
   "outputs": [],
   "source": [
    "anchors = soup.find_all('a')\n",
    "print(anchors)\n"
   ]
  },
  {
   "cell_type": "code",
   "execution_count": null,
   "id": "769d528a",
   "metadata": {},
   "outputs": [],
   "source": [
    "# To get all links\n",
    "all_links = set()\n",
    "for link in anchors:\n",
    "    print(link.get(\"href\"))\n",
    "    if (link.get('href')!=\"#\"):\n",
    "        links = \"https://www.xyz\"+link.get(\"href\")          #write the complete url name instead \"https://www.xyz\"\n",
    "        all_links.add(link)\n",
    "        print(links)\n"
   ]
  },
  {
   "cell_type": "code",
   "execution_count": null,
   "id": "4683545a",
   "metadata": {},
   "outputs": [],
   "source": [
    "from bs4 import BeautifulSoup\n",
    "# To get first element in HTML page\n",
    "print(soup.find('p'))\n",
    "\n",
    "# To get classes of any element in HTML page\n",
    "print(soup.find(\"p\")[\"class\"])\n",
    "\n",
    "# To get classes of any element named \"lead\"in HTML page\n",
    "print(soup.find(\"p\",class_= \"lead\"))\n",
    "\n",
    "# get the text from tags\n",
    "print(soup.find(\"p\").get_text())\n"
   ]
  },
  {
   "cell_type": "code",
   "execution_count": null,
   "id": "f2b8be6e",
   "metadata": {},
   "outputs": [],
   "source": [
    "#find selectors of class text-3xl\n",
    "elem = soup.select(\".pg-vertical\")\n",
    "print(elem)\n"
   ]
  },
  {
   "cell_type": "code",
   "execution_count": null,
   "id": "6244c0b8",
   "metadata": {},
   "outputs": [],
   "source": [
    "#this will create a list (similar to array in other langauges)\n",
    "response = requests.get(\"http://www.values.com/inspirational-quotes\")\n",
    "soup = BeautifulSoup(response.content, 'html5lib')\n",
    "\n",
    "quotes = []\n",
    "\n",
    "table = soup.find('div', attrs = {'id':'all_quotes'}) \n",
    "\n",
    "for row in table.findAll('img'):\n",
    "  quote = {}\n",
    "  quote = row['alt'].split(\" #\")[0]\n",
    "  quotes.append(quote)\n",
    "\n",
    "for q in quotes:\n",
    "  print(q)\n"
   ]
  },
  {
   "cell_type": "code",
   "execution_count": null,
   "id": "0a1b82bf",
   "metadata": {
    "scrolled": false
   },
   "outputs": [],
   "source": [
    "import requests\n",
    "from bs4 import BeautifulSoup\n",
    "response = requests.get(\"https://edition.cnn.com/\")\n",
    "#use a loop to parse through HTML text and get to the data you want to extract\n",
    "#it will filter out all the tags and data you do not need\n",
    "root = BeautifulSoup(response.content,\"html5lib\")\n",
    "for row in root.find_all(\"a\",attrs = {\"class':zn zn-intl_homepage1-zone-1\"}):\n",
    "    print(row.span.text)\n",
    "    "
   ]
  },
  {
   "cell_type": "code",
   "execution_count": null,
   "id": "92483978",
   "metadata": {},
   "outputs": [],
   "source": []
  },
  {
   "cell_type": "code",
   "execution_count": null,
   "id": "8442afec",
   "metadata": {},
   "outputs": [],
   "source": []
  }
 ],
 "metadata": {
  "kernelspec": {
   "display_name": "Python 3 (ipykernel)",
   "language": "python",
   "name": "python3"
  },
  "language_info": {
   "codemirror_mode": {
    "name": "ipython",
    "version": 3
   },
   "file_extension": ".py",
   "mimetype": "text/x-python",
   "name": "python",
   "nbconvert_exporter": "python",
   "pygments_lexer": "ipython3",
   "version": "3.10.5"
  },
  "vscode": {
   "interpreter": {
    "hash": "b2fa47e3f9ceed2b09216a985ab41de3d58f1a0c91b0195ef629639c8ea866f4"
   }
  }
 },
 "nbformat": 4,
 "nbformat_minor": 5
}
