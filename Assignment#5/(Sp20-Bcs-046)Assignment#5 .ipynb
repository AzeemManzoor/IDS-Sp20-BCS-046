{
 "cells": [
  {
   "cell_type": "code",
   "execution_count": 85,
   "metadata": {},
   "outputs": [],
   "source": [
    "#Name Azeem Manzoor\n",
    "#Reg no. Sp20-Bcs-046\n",
    "\n",
    "import pandas as pd\n",
    "import numpy as np\n",
    "from numpy.linalg import norm\n",
    "import math"
   ]
  },
  {
   "cell_type": "code",
   "execution_count": 86,
   "metadata": {},
   "outputs": [],
   "source": [
    "doc1 = \"sunshine state enjoy sunshine\"\n",
    "doc2 = \"brown fox jump high, brown fox run\" \n",
    "doc3=\"sunshine state fox run fast\"\n",
    "bow1 = doc1.split(\" \")\n",
    "bow2 = doc2.split(\" \")\n",
    "bow3 = doc3.split(\" \")"
   ]
  },
  {
   "cell_type": "code",
   "execution_count": 87,
   "metadata": {},
   "outputs": [
    {
     "data": {
      "text/plain": [
       "{'brown', 'enjoy', 'fast', 'fox', 'high,', 'jump', 'run', 'state', 'sunshine'}"
      ]
     },
     "execution_count": 87,
     "metadata": {},
     "output_type": "execute_result"
    }
   ],
   "source": [
    "terms = set(bow1).union(set(bow2)).union(set(bow3))\n",
    "terms"
   ]
  },
  {
   "cell_type": "code",
   "execution_count": 88,
   "metadata": {},
   "outputs": [],
   "source": [
    "wordDict1 = dict.fromkeys(terms, 0) \n",
    "wordDict2 = dict.fromkeys(terms, 0) \n",
    "wordDict3 = dict.fromkeys(terms, 0) "
   ]
  },
  {
   "cell_type": "code",
   "execution_count": 89,
   "metadata": {},
   "outputs": [],
   "source": [
    "for term in bow1:\n",
    "    wordDict1[term]+=1\n",
    "for term in bow2:\n",
    "    wordDict2[term]+=1\n",
    "for term in bow3:\n",
    "    wordDict3[term]+=1"
   ]
  },
  {
   "cell_type": "code",
   "execution_count": 90,
   "metadata": {},
   "outputs": [
    {
     "data": {
      "text/html": [
       "<div>\n",
       "<style scoped>\n",
       "    .dataframe tbody tr th:only-of-type {\n",
       "        vertical-align: middle;\n",
       "    }\n",
       "\n",
       "    .dataframe tbody tr th {\n",
       "        vertical-align: top;\n",
       "    }\n",
       "\n",
       "    .dataframe thead th {\n",
       "        text-align: right;\n",
       "    }\n",
       "</style>\n",
       "<table border=\"1\" class=\"dataframe\">\n",
       "  <thead>\n",
       "    <tr style=\"text-align: right;\">\n",
       "      <th></th>\n",
       "      <th>fox</th>\n",
       "      <th>brown</th>\n",
       "      <th>fast</th>\n",
       "      <th>sunshine</th>\n",
       "      <th>run</th>\n",
       "      <th>enjoy</th>\n",
       "      <th>jump</th>\n",
       "      <th>state</th>\n",
       "      <th>high,</th>\n",
       "    </tr>\n",
       "  </thead>\n",
       "  <tbody>\n",
       "    <tr>\n",
       "      <th>0</th>\n",
       "      <td>0</td>\n",
       "      <td>0</td>\n",
       "      <td>0</td>\n",
       "      <td>2</td>\n",
       "      <td>0</td>\n",
       "      <td>1</td>\n",
       "      <td>0</td>\n",
       "      <td>1</td>\n",
       "      <td>0</td>\n",
       "    </tr>\n",
       "    <tr>\n",
       "      <th>1</th>\n",
       "      <td>2</td>\n",
       "      <td>2</td>\n",
       "      <td>0</td>\n",
       "      <td>0</td>\n",
       "      <td>1</td>\n",
       "      <td>0</td>\n",
       "      <td>1</td>\n",
       "      <td>0</td>\n",
       "      <td>1</td>\n",
       "    </tr>\n",
       "    <tr>\n",
       "      <th>2</th>\n",
       "      <td>1</td>\n",
       "      <td>0</td>\n",
       "      <td>1</td>\n",
       "      <td>1</td>\n",
       "      <td>1</td>\n",
       "      <td>0</td>\n",
       "      <td>0</td>\n",
       "      <td>1</td>\n",
       "      <td>0</td>\n",
       "    </tr>\n",
       "  </tbody>\n",
       "</table>\n",
       "</div>"
      ],
      "text/plain": [
       "   fox  brown  fast  sunshine  run  enjoy  jump  state  high,\n",
       "0    0      0     0         2    0      1     0      1      0\n",
       "1    2      2     0         0    1      0     1      0      1\n",
       "2    1      0     1         1    1      0     0      1      0"
      ]
     },
     "execution_count": 90,
     "metadata": {},
     "output_type": "execute_result"
    }
   ],
   "source": [
    "#bag of words\n",
    "pd.DataFrame([wordDict1, wordDict2 ,wordDict3])"
   ]
  },
  {
   "cell_type": "code",
   "execution_count": 91,
   "metadata": {},
   "outputs": [],
   "source": [
    "#Term Frequency\n",
    "\n",
    "def computeTF(wordDict, bow):\n",
    "    tfDict = {}\n",
    "    bowCount = len(bow)\n",
    "    for term, count in wordDict.items():\n",
    "        tfDict[term] = count/float(bowCount)\n",
    "    return tfDict"
   ]
  },
  {
   "cell_type": "code",
   "execution_count": 92,
   "metadata": {},
   "outputs": [
    {
     "name": "stdout",
     "output_type": "stream",
     "text": [
      "The TF values of 1s Document\n"
     ]
    },
    {
     "data": {
      "text/plain": [
       "{'fox': 0.0,\n",
       " 'brown': 0.0,\n",
       " 'fast': 0.0,\n",
       " 'sunshine': 0.5,\n",
       " 'run': 0.0,\n",
       " 'enjoy': 0.25,\n",
       " 'jump': 0.0,\n",
       " 'state': 0.25,\n",
       " 'high,': 0.0}"
      ]
     },
     "execution_count": 92,
     "metadata": {},
     "output_type": "execute_result"
    }
   ],
   "source": [
    "tfBow_1 = computeTF(wordDict1, bow1)\n",
    "tfBow_2 = computeTF(wordDict2, bow2)\n",
    "tfBow_3 = computeTF(wordDict3, bow3)\n",
    "print(\"The TF values of 1s Document\")\n",
    "tfBow_1\n",
    "\n"
   ]
  },
  {
   "cell_type": "code",
   "execution_count": 93,
   "metadata": {},
   "outputs": [
    {
     "name": "stdout",
     "output_type": "stream",
     "text": [
      "The TF values of 2nd Document\n"
     ]
    },
    {
     "data": {
      "text/plain": [
       "{'fox': 0.2857142857142857,\n",
       " 'brown': 0.2857142857142857,\n",
       " 'fast': 0.0,\n",
       " 'sunshine': 0.0,\n",
       " 'run': 0.14285714285714285,\n",
       " 'enjoy': 0.0,\n",
       " 'jump': 0.14285714285714285,\n",
       " 'state': 0.0,\n",
       " 'high,': 0.14285714285714285}"
      ]
     },
     "execution_count": 93,
     "metadata": {},
     "output_type": "execute_result"
    }
   ],
   "source": [
    "print(\"The TF values of 2nd Document\")\n",
    "tfBow_2"
   ]
  },
  {
   "cell_type": "code",
   "execution_count": 94,
   "metadata": {},
   "outputs": [
    {
     "name": "stdout",
     "output_type": "stream",
     "text": [
      "The TF values of 3rd Document\n"
     ]
    },
    {
     "data": {
      "text/plain": [
       "{'fox': 0.2,\n",
       " 'brown': 0.0,\n",
       " 'fast': 0.2,\n",
       " 'sunshine': 0.2,\n",
       " 'run': 0.2,\n",
       " 'enjoy': 0.0,\n",
       " 'jump': 0.0,\n",
       " 'state': 0.2,\n",
       " 'high,': 0.0}"
      ]
     },
     "execution_count": 94,
     "metadata": {},
     "output_type": "execute_result"
    }
   ],
   "source": [
    "print(\"The TF values of 3rd Document\")\n",
    "tfBow_3"
   ]
  },
  {
   "cell_type": "code",
   "execution_count": 95,
   "metadata": {},
   "outputs": [],
   "source": [
    "#Inverse Document Frequency\n",
    "\n",
    "def computeIDF(docList):\n",
    "    import math\n",
    "    idfDict = {}\n",
    "    N = len(docList)\n",
    "    \n",
    "    idfDict = dict.fromkeys(docList[0].keys(), 0)\n",
    "    for doc in docList:\n",
    "        for word, val in doc.items():\n",
    "            if val > 0:\n",
    "                idfDict[word] += 1\n",
    "    \n",
    "    for word, val in idfDict.items():\n",
    "        idfDict[word] = math.log10(N / float(val))\n",
    "        \n",
    "    return idfDict    "
   ]
  },
  {
   "cell_type": "code",
   "execution_count": 96,
   "metadata": {},
   "outputs": [],
   "source": [
    "idf = computeIDF([wordDict1, wordDict2 , wordDict3])"
   ]
  },
  {
   "cell_type": "code",
   "execution_count": 97,
   "metadata": {},
   "outputs": [],
   "source": [
    "def computeTFIDF(tfBow, idf):\n",
    "    tf_idf = {}\n",
    "    for term, val in tfBow.items():\n",
    "        tf_idf[term] = val*idf[term]\n",
    "    return tf_idf\n",
    "    "
   ]
  },
  {
   "cell_type": "code",
   "execution_count": 98,
   "metadata": {},
   "outputs": [],
   "source": [
    "tf_idf_Bow_1 = computeTFIDF(tfBow_1, idf)\n",
    "tf_idf_Bow_2 = computeTFIDF(tfBow_2, idf)\n",
    "tf_idf_Bow_3 = computeTFIDF(tfBow_3, idf)"
   ]
  },
  {
   "cell_type": "code",
   "execution_count": 99,
   "metadata": {},
   "outputs": [
    {
     "data": {
      "text/html": [
       "<div>\n",
       "<style scoped>\n",
       "    .dataframe tbody tr th:only-of-type {\n",
       "        vertical-align: middle;\n",
       "    }\n",
       "\n",
       "    .dataframe tbody tr th {\n",
       "        vertical-align: top;\n",
       "    }\n",
       "\n",
       "    .dataframe thead th {\n",
       "        text-align: right;\n",
       "    }\n",
       "</style>\n",
       "<table border=\"1\" class=\"dataframe\">\n",
       "  <thead>\n",
       "    <tr style=\"text-align: right;\">\n",
       "      <th></th>\n",
       "      <th>fox</th>\n",
       "      <th>brown</th>\n",
       "      <th>fast</th>\n",
       "      <th>sunshine</th>\n",
       "      <th>run</th>\n",
       "      <th>enjoy</th>\n",
       "      <th>jump</th>\n",
       "      <th>state</th>\n",
       "      <th>high,</th>\n",
       "    </tr>\n",
       "  </thead>\n",
       "  <tbody>\n",
       "    <tr>\n",
       "      <th>0</th>\n",
       "      <td>0.000000</td>\n",
       "      <td>0.00000</td>\n",
       "      <td>0.000000</td>\n",
       "      <td>0.088046</td>\n",
       "      <td>0.000000</td>\n",
       "      <td>0.11928</td>\n",
       "      <td>0.00000</td>\n",
       "      <td>0.044023</td>\n",
       "      <td>0.00000</td>\n",
       "    </tr>\n",
       "    <tr>\n",
       "      <th>1</th>\n",
       "      <td>0.050312</td>\n",
       "      <td>0.13632</td>\n",
       "      <td>0.000000</td>\n",
       "      <td>0.000000</td>\n",
       "      <td>0.025156</td>\n",
       "      <td>0.00000</td>\n",
       "      <td>0.06816</td>\n",
       "      <td>0.000000</td>\n",
       "      <td>0.06816</td>\n",
       "    </tr>\n",
       "    <tr>\n",
       "      <th>2</th>\n",
       "      <td>0.035218</td>\n",
       "      <td>0.00000</td>\n",
       "      <td>0.095424</td>\n",
       "      <td>0.035218</td>\n",
       "      <td>0.035218</td>\n",
       "      <td>0.00000</td>\n",
       "      <td>0.00000</td>\n",
       "      <td>0.035218</td>\n",
       "      <td>0.00000</td>\n",
       "    </tr>\n",
       "  </tbody>\n",
       "</table>\n",
       "</div>"
      ],
      "text/plain": [
       "        fox    brown      fast  sunshine       run    enjoy     jump  \\\n",
       "0  0.000000  0.00000  0.000000  0.088046  0.000000  0.11928  0.00000   \n",
       "1  0.050312  0.13632  0.000000  0.000000  0.025156  0.00000  0.06816   \n",
       "2  0.035218  0.00000  0.095424  0.035218  0.035218  0.00000  0.00000   \n",
       "\n",
       "      state    high,  \n",
       "0  0.044023  0.00000  \n",
       "1  0.000000  0.06816  \n",
       "2  0.035218  0.00000  "
      ]
     },
     "execution_count": 99,
     "metadata": {},
     "output_type": "execute_result"
    }
   ],
   "source": [
    "\n",
    "pd.DataFrame([tf_idf_Bow_1, tf_idf_Bow_2 , tf_idf_Bow_3])"
   ]
  },
  {
   "cell_type": "code",
   "execution_count": 100,
   "metadata": {},
   "outputs": [
    {
     "name": "stdout",
     "output_type": "stream",
     "text": [
      "Cosine Similarity: 0.5477225575051661\n"
     ]
    }
   ],
   "source": [
    "#Cosine similarity of S1 and S3\n",
    "S1 = np.array([2,1,1,0,0,0,0,0,0])\n",
    "S3 = np.array([1,1,0,0,1,0,0,1,1])\n",
    "cos = np.dot(S1,S3)/(norm(S1)*norm(S3))\n",
    "print(\"Cosine Similarity:\", cos)"
   ]
  },
  {
   "cell_type": "code",
   "execution_count": null,
   "metadata": {},
   "outputs": [],
   "source": []
  }
 ],
 "metadata": {
  "kernelspec": {
   "display_name": "Python 3 (ipykernel)",
   "language": "python",
   "name": "python3"
  },
  "language_info": {
   "codemirror_mode": {
    "name": "ipython",
    "version": 3
   },
   "file_extension": ".py",
   "mimetype": "text/x-python",
   "name": "python",
   "nbconvert_exporter": "python",
   "pygments_lexer": "ipython3",
   "version": "3.9.12"
  }
 },
 "nbformat": 4,
 "nbformat_minor": 2
}
